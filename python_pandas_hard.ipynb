{
 "cells": [
  {
   "cell_type": "raw",
   "id": "b79d138d",
   "metadata": {
    "vscode": {
     "languageId": "raw"
    }
   },
   "source": [
    "City With Most Amenities - Airbnb\n",
    "\n",
    "Last Updated: June 2025\n",
    "\n",
    "Hard ID 9633\n",
    "\n",
    "\n",
    "You're given a dataset of searches for properties on Airbnb.\n",
    "For simplicity, let's say that each search result (i.e., each row) represents a unique host. Find the city with the most amenities across all their host's properties. Output the name of the city.\n",
    "\n",
    "## my answer\n",
    "# Import your libraries\n",
    "import pandas as pd\n",
    "import re\n",
    "removal = ['{','}',\"'\",'\"','translation missing:*.*$']\n",
    "\n",
    "# get only the 2 cols I want\n",
    "bnb = airbnb_search_details.copy()[['city','amenities']]\n",
    "# remove everything I do not want\n",
    "bnb['amenities'] = bnb['amenities'].apply(lambda x: re.sub('|'.join(removal),'',x.lower()))\n",
    "# run all the amenities together\n",
    "bnb['new_amen'] = bnb.groupby('city')['amenities'].transform(lambda x: ','.join(x.str.lower()))\n",
    "# get unique strings\n",
    "bnb[\"words\"] = bnb[\"new_amen\"].str.split(',').apply(set).str.join(\",\")\n",
    "# filter\n",
    "bnb2 = bnb[['city','words']].drop_duplicates()\n",
    "# count the words\n",
    "bnb2['amen_count'] = bnb.groupby('city')['words'].transform(lambda x: x.str.split(',').str.len())\n",
    "# create the rank variable\n",
    "bnb2['rank'] = bnb2['amen_count'].rank(ascending = False, method = 'first')\n",
    "# bam answer\n",
    "bnb2[bnb2['rank']==1]['city']"
   ]
  },
  {
   "cell_type": "raw",
   "id": "9393dfbc",
   "metadata": {
    "vscode": {
     "languageId": "raw"
    }
   },
   "source": [
    "Most Popular Client For Calls - Apple\n",
    "\n",
    "Last Updated: June 2025\n",
    "\n",
    "Hard ID 2029\n",
    "\n",
    "Select the most popular client_id based on the number of users who individually have at least 50% of their events from the following list: 'video call received', 'video call sent', 'voice call received', 'voice call sent'.\n",
    "\n",
    "## my answer\n",
    "# Import your libraries\n",
    "import pandas as pd\n",
    "\n",
    "# create a list of event types\n",
    "events = ['video call received', 'video call sent', 'voice call received', 'voice call sent']\n",
    "# count each unique event\n",
    "fact_events['events'] = 1\n",
    "# create the variable if the event type is in our desired list \n",
    "fact_events['desired_actions'] = fact_events['event_type'].transform(lambda x : 1 if x in events else 0)\n",
    "# variable to tell percent of users overall actions in the even type\n",
    "fact_events['per_action'] = fact_events.groupby('user_id')['desired_actions'].transform('sum') / fact_events.groupby('user_id')['events'].transform('sum')\n",
    "# get those with 1/2 or more of action in the event typt\n",
    "fe = fact_events.copy()[fact_events['per_action']>=.50]['client_id'].to_frame().value_counts().reset_index().rename(columns={0:'counts'})\n",
    "# rank event types by overall counts\n",
    "fe['rank'] = fe['counts'].rank(method = 'dense', ascending = False)\n",
    "# boom answer\n",
    "fe[fe['rank']==1]['client_id']"
   ]
  },
  {
   "cell_type": "raw",
   "id": "63292c02",
   "metadata": {
    "vscode": {
     "languageId": "raw"
    }
   },
   "source": [
    "Consecutive Days\n",
    "\n",
    "Last Updated: June 2025\n",
    "\n",
    "Hard ID 2054\n",
    "\n",
    "Find all the users who were active for 3 consecutive days or more.\n",
    "\n",
    "## my answer\n",
    "# Import your libraries\n",
    "import pandas as pd\n",
    "import datetime as dt\n",
    "\n",
    "# create the base set\n",
    "sf = sf_events.merge(sf_events, how = 'cross')[['user_id_x','record_date_x','record_date_y']].rename(columns= {'user_id_x':'user', 'record_date_x':'date1',\"record_date_y\":'date2'}).drop_duplicates().sort_values(['user','date1']).query('date2>date1')\n",
    "# calc the date differences\n",
    "sf['date_diff']=(sf['date2']-sf['date1']).dt.days\n",
    "# limit to date diff of 1\n",
    "newsf = sf[sf['date_diff']==1]\n",
    "# this will give us all the users that are active 3 days or more\n",
    "newsf.merge(newsf, how = 'cross').query('date2_x==date1_y')[['user_x', 'date1_x',\"date1_y\",\"date2_y\"]]['user_x'].drop_duplicates()"
   ]
  },
  {
   "cell_type": "raw",
   "id": "4aa36224",
   "metadata": {},
   "source": []
  }
 ],
 "metadata": {
  "kernelspec": {
   "display_name": "Python 3",
   "language": "python",
   "name": "python3"
  },
  "language_info": {
   "codemirror_mode": {
    "name": "ipython",
    "version": 3
   },
   "file_extension": ".py",
   "mimetype": "text/x-python",
   "name": "python",
   "nbconvert_exporter": "python",
   "pygments_lexer": "ipython3",
   "version": "3.12.3"
  }
 },
 "nbformat": 4,
 "nbformat_minor": 5
}
